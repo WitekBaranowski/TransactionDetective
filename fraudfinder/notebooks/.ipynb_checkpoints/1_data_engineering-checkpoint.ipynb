{
 "cells": [
  {
   "cell_type": "code",
   "execution_count": null,
   "metadata": {
    "id": "ur8xi4C7S06n"
   },
   "outputs": [],
   "source": [
    "# Copyright 2021 Google LLC\n",
    "#\n",
    "# Licensed under the Apache License, Version 2.0 (the \"License\");\n",
    "# you may not use this file except in compliance with the License.\n",
    "# You may obtain a copy of the License at\n",
    "#\n",
    "#     https://www.apache.org/licenses/LICENSE-2.0\n",
    "#\n",
    "# Unless required by applicable law or agreed to in writing, software\n",
    "# distributed under the License is distributed on an \"AS IS\" BASIS,\n",
    "# WITHOUT WARRANTIES OR CONDITIONS OF ANY KIND, either express or implied.\n",
    "# See the License for the specific language governing permissions and\n",
    "# limitations under the License."
   ]
  },
  {
   "cell_type": "markdown",
   "metadata": {
    "id": "JAPoU8Sm5E6e"
   },
   "source": [
    "<table align=\"left\">\n",
    "\n",
    "  <td>\n",
    "    <a href=\"https://colab.research.google.com/github/GoogleCloudPlatform/ai-platform-samples/blob/master/ai-platform-unified/notebooks/notebook_template.ipynb\"\">\n",
    "      <img src=\"https://cloud.google.com/ml-engine/images/colab-logo-32px.png\" alt=\"Colab logo\"> Run in Colab\n",
    "    </a>\n",
    "  </td>\n",
    "  <td>\n",
    "    <a href=\"https://github.com/GoogleCloudPlatform/ai-platform-samples/blob/master/ai-platform-unified/notebooks/notebook_template.ipynb\">\n",
    "      <img src=\"https://cloud.google.com/ml-engine/images/github-logo-32px.png\" alt=\"GitHub logo\">\n",
    "      View on GitHub\n",
    "    </a>\n",
    "  </td>\n",
    "</table>"
   ]
  },
  {
   "cell_type": "markdown",
   "metadata": {
    "id": "tvgnzT1CKxrO"
   },
   "source": [
    "## Overview\n",
    "\n",
    "This notebook shows a common Data Engineering trasformation in order to create:\n",
    "\n",
    "* Calculate customer spending behaviour features\n",
    "* Calculate terminal spending behaviour features\n",
    "* Calculate terminal risk factors features \n",
    "* Calculate terminal risk index features\n",
    "\n",
    "and obtain the wide features table to ingest in the feature store. \n",
    "\n",
    "Notice, we made an assumption to simplify the demo. We consider target as a feature. This would simplify the ML pipeline avoiding a join operation. \n",
    "\n",
    "### Objective\n",
    "\n",
    "In the following notebook, you will learn how to create a feature store and use the SDK to implement the feature managment operations"
   ]
  },
  {
   "cell_type": "markdown",
   "metadata": {
    "id": "lWEdiXsJg0XY"
   },
   "source": [
    "## Before you begin"
   ]
  },
  {
   "cell_type": "markdown",
   "metadata": {},
   "source": [
    "### Load config settings"
   ]
  },
  {
   "cell_type": "code",
   "execution_count": null,
   "metadata": {},
   "outputs": [],
   "source": [
    "GCP_PROJECTS = !gcloud config get-value project\n",
    "PROJECT_ID = GCP_PROJECTS[0]\n",
    "BUCKET_NAME = PROJECT_ID\n",
    "config = !gsutil cat gs://{BUCKET_NAME}/config/notebook_env.py\n",
    "print(config.n)\n",
    "exec(config.n)"
   ]
  },
  {
   "cell_type": "markdown",
   "metadata": {
    "id": "XoEqT2Y4DJmf"
   },
   "source": [
    "### Import libraries"
   ]
  },
  {
   "cell_type": "code",
   "execution_count": null,
   "metadata": {
    "executionInfo": {
     "elapsed": 3,
     "status": "ok",
     "timestamp": 1644823642503,
     "user": {
      "displayName": "Ivan Nardini",
      "photoUrl": "https://lh3.googleusercontent.com/a-/AOh14GirR1vbO3QJ0m2qHiEeorgPnPRSx5bB2uOIfJ4mSQ=s64",
      "userId": "04192340647469915671"
     },
     "user_tz": -60
    },
    "id": "pRUOFELefqf1"
   },
   "outputs": [],
   "source": [
    "import os\n",
    "import sys\n",
    "import random\n",
    "import time\n",
    "import datetime as dt\n",
    "\n",
    "# Data Engineering\n",
    "import numpy as np\n",
    "import pandas as pd\n",
    "from google.cloud import bigquery\n",
    "\n",
    "#Vertex AI and Vertex AI Feature Store \n",
    "from google.cloud import aiplatform as vertex_ai\n",
    "from google.cloud.aiplatform import Featurestore, EntityType, Feature"
   ]
  },
  {
   "cell_type": "markdown",
   "metadata": {
    "id": "Moq4QZKjY4fv"
   },
   "source": [
    "### Define constants"
   ]
  },
  {
   "cell_type": "code",
   "execution_count": null,
   "metadata": {
    "executionInfo": {
     "elapsed": 1160,
     "status": "ok",
     "timestamp": 1644828029574,
     "user": {
      "displayName": "Ivan Nardini",
      "photoUrl": "https://lh3.googleusercontent.com/a-/AOh14GirR1vbO3QJ0m2qHiEeorgPnPRSx5bB2uOIfJ4mSQ=s64",
      "userId": "04192340647469915671"
     },
     "user_tz": -60
    },
    "id": "G-4MU7kF3t4x"
   },
   "outputs": [],
   "source": [
    "# Organize project repo\n",
    "DATA_DIR = os.path.join('..', 'data') #set data folder\n",
    "RAW_DATA_DIR = os.path.join(DATA_DIR, 'raw') #set \n",
    "\n",
    "# Data Engineering\n",
    "\n",
    "# Define the range of transactions for training\n",
    "START_DATE_TRAIN = \"2022-01-01\" #consider few days for training (demo)\n",
    "END_DATE_TRAIN = \"2022-01-31\"\n",
    "\n",
    "# Define BiqQuery dataset, tables and time windows to calculate static behavioral features\n",
    "BQ_DATASET = \"tx\"\n",
    "RAW_TABLE_TRANSACTIONS = 'tx'\n",
    "RAW_TABLE_LABELS = 'txlabels'\n",
    "DAY_WINDOWS = [1, 7, 14]\n",
    "SECONDS_WINDOWS = [DW*24*60*60 for DW in DAY_WINDOWS]\n",
    "DELAY_DAYS = 7\n",
    "DELAY_SECONDS = DELAY_DAYS*24*60*60\n",
    "DELAY_DAY_WINDOWS = [SW+DELAY_SECONDS for SW in SECONDS_WINDOWS]\n",
    "FEATURES_TABLE = f\"wide_features_table_{END_DATE_TRAIN}\"\n",
    "\n",
    "# Define Vertex AI Feature store settings\n",
    "API_ENDPOINT = \"us-central1-aiplatform.googleapis.com\"  # @param {type:\"string\"}\n",
    "EVENTS_TABLE_NAME = f'events_{END_DATE_TRAIN}'\n",
    "EVENTS_COLUMNS = ['TX_DATETIME', 'TRANSACTION_ID', 'CUSTOMER_ID', 'TERMINAL_ID', 'TX_AMOUNT', 'TX_FRAUD']\n",
    "\n",
    "CUSTOMERS_TABLE_NAME = f'customers_{END_DATE_TRAIN}'\n",
    "CUSTOMERS_COLUMNS = ['TX_DATETIME', 'CUSTOMER_ID', 'CUSTOMER_ID_NB_TX_1DAY_WINDOW', \n",
    "                     'CUSTOMER_ID_AVG_AMOUNT_1DAY_WINDOW', 'CUSTOMER_ID_NB_TX_7DAY_WINDOW',\n",
    "                     'CUSTOMER_ID_AVG_AMOUNT_7DAY_WINDOW', 'CUSTOMER_ID_NB_TX_14DAY_WINDOW',\n",
    "                     'CUSTOMER_ID_AVG_AMOUNT_14DAY_WINDOW']\n",
    "\n",
    "TERMINALS_TABLE_NAME = f'terminals_{END_DATE_TRAIN}'\n",
    "TERMINALS_COLUMNS = ['TX_DATETIME', 'TERMINAL_ID', 'TERMINAL_ID_NB_TX_1DAY_WINDOW',\n",
    "                     'TERMINAL_ID_RISK_1DAY_WINDOW', 'TERMINAL_ID_NB_TX_7DAY_WINDOW',\n",
    "                     'TERMINAL_ID_RISK_7DAY_WINDOW', 'TERMINAL_ID_NB_TX_14DAY_WINDOW',\n",
    "                     'TERMINAL_ID_RISK_14DAY_WINDOW']"
   ]
  },
  {
   "cell_type": "markdown",
   "metadata": {
    "id": "XoEqT2Y4DJmf"
   },
   "source": [
    "### Initialize clients"
   ]
  },
  {
   "cell_type": "code",
   "execution_count": null,
   "metadata": {},
   "outputs": [],
   "source": [
    "vertex_ai.init(project=PROJECT_ID, location=REGION, staging_bucket=BUCKET_NAME)"
   ]
  },
  {
   "cell_type": "markdown",
   "metadata": {
    "id": "jKaROgJZ3t4y"
   },
   "source": [
    "## Data Engineering"
   ]
  },
  {
   "cell_type": "markdown",
   "metadata": {
    "id": "0NDaDFyj3t4z"
   },
   "source": [
    "### Customer ID and Terminal ID transformations\n",
    "\n",
    "These transformations are the perfect examples of features to store in a feature stores:\n",
    "\n",
    "- they need to be precalculated\n",
    "- they need be shared\n",
    "\n",
    "Below an example of wide features table in case of fraud detection.\n",
    "\n",
    "\n"
   ]
  },
  {
   "cell_type": "code",
   "execution_count": null,
   "metadata": {
    "executionInfo": {
     "elapsed": 282,
     "status": "ok",
     "timestamp": 1644823783649,
     "user": {
      "displayName": "Ivan Nardini",
      "photoUrl": "https://lh3.googleusercontent.com/a-/AOh14GirR1vbO3QJ0m2qHiEeorgPnPRSx5bB2uOIfJ4mSQ=s64",
      "userId": "04192340647469915671"
     },
     "user_tz": -60
    },
    "id": "43Ck_vAc3t4z"
   },
   "outputs": [],
   "source": [
    "sql_query = \\\n",
    "f\"\"\"\n",
    "CREATE OR REPLACE TABLE\n",
    "  `{PROJECT_ID}.{BQ_DATASET}.{FEATURES_TABLE}` AS\n",
    "WITH\n",
    "  # query to join labels with features -------------------------------------------------------------------------------------------\n",
    "  get_raw_table AS (\n",
    "  SELECT\n",
    "    raw_tx.TX_TS,\n",
    "    raw_tx.TX_ID,\n",
    "    raw_tx.CUSTOMER_ID,\n",
    "    raw_tx.TERMINAL_ID,\n",
    "    raw_tx.TX_AMOUNT,\n",
    "    raw_lb.TX_FRAUD\n",
    "  FROM (\n",
    "    SELECT\n",
    "      *\n",
    "    FROM\n",
    "      `{BQ_DATASET}.{RAW_TABLE_TRANSACTIONS}`\n",
    "    WHERE\n",
    "      DATE(TX_TS) <= '{END_DATE_TRAIN}' \n",
    "    ORDER BY\n",
    "      TX_TS) AS raw_tx\n",
    "  LEFT JOIN \n",
    "    `{BQ_DATASET}.{RAW_TABLE_LABELS}` as raw_lb\n",
    "  ON raw_tx.TX_ID = raw_lb.TX_ID),\n",
    "\n",
    "  # query to calculate CUSTOMER spending behaviour --------------------------------------------------------------------------------\n",
    "  get_customer_spending_behaviour AS (\n",
    "  SELECT\n",
    "    TX_TS,\n",
    "    TX_ID,\n",
    "    CUSTOMER_ID,\n",
    "    TERMINAL_ID,\n",
    "    TX_AMOUNT,\n",
    "    TX_FRAUD,\n",
    "    \n",
    "    # calculate the number of customer transactions over windows\n",
    "    COUNT(TX_FRAUD) OVER (PARTITION BY CUSTOMER_ID ORDER BY UNIX_SECONDS(TX_TS) ASC RANGE BETWEEN {SECONDS_WINDOWS[0]} PRECEDING\n",
    "      AND CURRENT ROW ) AS CUSTOMER_ID_NB_TX_1DAY_WINDOW,\n",
    "    COUNT(TX_FRAUD) OVER (PARTITION BY CUSTOMER_ID ORDER BY UNIX_SECONDS(TX_TS) ASC RANGE BETWEEN {SECONDS_WINDOWS[1]} PRECEDING\n",
    "      AND CURRENT ROW ) AS CUSTOMER_ID_NB_TX_7DAY_WINDOW,\n",
    "    COUNT(TX_FRAUD) OVER (PARTITION BY CUSTOMER_ID ORDER BY UNIX_SECONDS(TX_TS) ASC RANGE BETWEEN {SECONDS_WINDOWS[2]} PRECEDING\n",
    "      AND CURRENT ROW ) AS CUSTOMER_ID_NB_TX_14DAY_WINDOW,\n",
    "      \n",
    "    # calculate the customer average transactions amount over windows\n",
    "    AVG(TX_AMOUNT) OVER (PARTITION BY CUSTOMER_ID ORDER BY UNIX_SECONDS(TX_TS) ASC RANGE BETWEEN {SECONDS_WINDOWS[0]} PRECEDING\n",
    "      AND CURRENT ROW ) AS CUSTOMER_ID_AVG_AMOUNT_1DAY_WINDOW,\n",
    "    AVG(TX_AMOUNT) OVER (PARTITION BY CUSTOMER_ID ORDER BY UNIX_SECONDS(TX_TS) ASC RANGE BETWEEN {SECONDS_WINDOWS[1]} PRECEDING\n",
    "      AND CURRENT ROW ) AS CUSTOMER_ID_AVG_AMOUNT_7DAY_WINDOW,\n",
    "    AVG(TX_AMOUNT) OVER (PARTITION BY CUSTOMER_ID ORDER BY UNIX_SECONDS(TX_TS) ASC RANGE BETWEEN {SECONDS_WINDOWS[2]} PRECEDING\n",
    "      AND CURRENT ROW ) AS CUSTOMER_ID_AVG_AMOUNT_14DAY_WINDOW,\n",
    "  FROM get_raw_table),\n",
    "\n",
    "  # query to calculate TERMINAL spending behaviour --------------------------------------------------------------------------------\n",
    "  get_variables_delay_window AS (\n",
    "  SELECT\n",
    "    TX_TS,\n",
    "    TX_ID,\n",
    "    CUSTOMER_ID,\n",
    "    TERMINAL_ID,\n",
    "    \n",
    "    # calculate total amount and the total number of trasactions over the delay period (7 days - delay)\n",
    "    SUM(TX_FRAUD) OVER (PARTITION BY TERMINAL_ID ORDER BY UNIX_SECONDS(TX_TS) ASC RANGE BETWEEN {DELAY_SECONDS} PRECEDING\n",
    "      AND CURRENT ROW ) AS NB_FRAUD_DELAY,\n",
    "    COUNT(TX_FRAUD) OVER (PARTITION BY TERMINAL_ID ORDER BY UNIX_SECONDS(TX_TS) ASC RANGE BETWEEN {DELAY_SECONDS} PRECEDING\n",
    "      AND CURRENT ROW ) AS NB_TX_DELAY,\n",
    "      \n",
    "    # calculate total amount and the total number of trasactions over the delayed window (window + 7 days - delay)\n",
    "    SUM(TX_FRAUD) OVER (PARTITION BY TERMINAL_ID ORDER BY UNIX_SECONDS(TX_TS) ASC RANGE BETWEEN {DELAY_DAY_WINDOWS[0]} PRECEDING\n",
    "      AND CURRENT ROW ) AS NB_FRAUD_1_DELAY_WINDOW,\n",
    "    SUM(TX_FRAUD) OVER (PARTITION BY TERMINAL_ID ORDER BY UNIX_SECONDS(TX_TS) ASC RANGE BETWEEN {DELAY_DAY_WINDOWS[1]} PRECEDING\n",
    "      AND CURRENT ROW ) AS NB_FRAUD_7_DELAY_WINDOW,\n",
    "    SUM(TX_FRAUD) OVER (PARTITION BY TERMINAL_ID ORDER BY UNIX_SECONDS(TX_TS) ASC RANGE BETWEEN {DELAY_DAY_WINDOWS[2]} PRECEDING\n",
    "      AND CURRENT ROW ) AS NB_FRAUD_14_DELAY_WINDOW,\n",
    "    COUNT(TX_FRAUD) OVER (PARTITION BY TERMINAL_ID ORDER BY UNIX_SECONDS(TX_TS) ASC RANGE BETWEEN {DELAY_DAY_WINDOWS[0]} PRECEDING\n",
    "      AND CURRENT ROW ) AS NB_TX_1_DELAY_WINDOW,\n",
    "    COUNT(TX_FRAUD) OVER (PARTITION BY TERMINAL_ID ORDER BY UNIX_SECONDS(TX_TS) ASC RANGE BETWEEN {DELAY_DAY_WINDOWS[1]} PRECEDING\n",
    "      AND CURRENT ROW ) AS NB_TX_7_DELAY_WINDOW,\n",
    "    COUNT(TX_FRAUD) OVER (PARTITION BY TERMINAL_ID ORDER BY UNIX_SECONDS(TX_TS) ASC RANGE BETWEEN {DELAY_DAY_WINDOWS[2]} PRECEDING\n",
    "      AND CURRENT ROW ) AS NB_TX_14_DELAY_WINDOW,\n",
    "  FROM get_raw_table),\n",
    "\n",
    "  # query to calculate TERMINAL risk factors ---------------------------------------------------------------------------------------\n",
    "  get_risk_factors AS (\n",
    "  SELECT\n",
    "    TX_TS,\n",
    "    TX_ID,\n",
    "    CUSTOMER_ID,\n",
    "    TERMINAL_ID,\n",
    "    # calculate numerator\n",
    "    NB_FRAUD_1_DELAY_WINDOW - NB_FRAUD_DELAY AS TERMINAL_ID_NB_FRAUD_1DAY_WINDOW,\n",
    "    NB_FRAUD_7_DELAY_WINDOW - NB_FRAUD_DELAY AS TERMINAL_ID_NB_FRAUD_7DAY_WINDOW,\n",
    "    NB_FRAUD_14_DELAY_WINDOW - NB_FRAUD_DELAY AS TERMINAL_ID_NB_FRAUD_14DAY_WINDOW,\n",
    "    # calculate denominator\n",
    "    NB_TX_1_DELAY_WINDOW - NB_TX_DELAY AS TERMINAL_ID_NB_TX_1DAY_WINDOW,\n",
    "    NB_TX_7_DELAY_WINDOW - NB_TX_DELAY AS TERMINAL_ID_NB_TX_7DAY_WINDOW,\n",
    "    NB_TX_14_DELAY_WINDOW - NB_TX_DELAY AS TERMINAL_ID_NB_TX_14DAY_WINDOW,\n",
    "      FROM\n",
    "    get_variables_delay_window),\n",
    "\n",
    "  # query to calculate the TERMINAL risk index -------------------------------------------------------------------------------------\n",
    "  get_risk_index AS (\n",
    "    SELECT\n",
    "    TX_TS,\n",
    "    TX_ID,\n",
    "    CUSTOMER_ID,\n",
    "    TERMINAL_ID,\n",
    "    TERMINAL_ID_NB_TX_1DAY_WINDOW,\n",
    "    TERMINAL_ID_NB_TX_7DAY_WINDOW,\n",
    "    TERMINAL_ID_NB_TX_14DAY_WINDOW,\n",
    "    # calculate the risk index\n",
    "    (TERMINAL_ID_NB_FRAUD_1DAY_WINDOW/(TERMINAL_ID_NB_TX_1DAY_WINDOW+0.0001)) AS TERMINAL_ID_RISK_1DAY_WINDOW,\n",
    "    (TERMINAL_ID_NB_FRAUD_7DAY_WINDOW/(TERMINAL_ID_NB_TX_7DAY_WINDOW+0.0001)) AS TERMINAL_ID_RISK_7DAY_WINDOW,\n",
    "    (TERMINAL_ID_NB_FRAUD_14DAY_WINDOW/(TERMINAL_ID_NB_TX_14DAY_WINDOW+0.0001)) AS TERMINAL_ID_RISK_14DAY_WINDOW\n",
    "    FROM get_risk_factors \n",
    "  )\n",
    "\n",
    "SELECT\n",
    "  a.TX_TS AS tx_ts,\n",
    "  a.TX_ID AS tx_id,\n",
    "  a.CUSTOMER_ID AS customer_id,\n",
    "  a.TERMINAL_ID AS terminal_id,\n",
    "  CAST(a.TX_AMOUNT AS FLOAT64) AS tx_amount,\n",
    "  CAST(a.CUSTOMER_ID_NB_TX_1DAY_WINDOW AS INT64) AS customer_id_nb_tx_1day_window,\n",
    "  CAST(a.CUSTOMER_ID_NB_TX_7DAY_WINDOW AS INT64) AS customer_id_nb_tx_7day_window,\n",
    "  CAST(a.CUSTOMER_ID_NB_TX_14DAY_WINDOW AS INT64) AS customer_id_nb_tx_14day_window,\n",
    "  CAST(a.CUSTOMER_ID_AVG_AMOUNT_1DAY_WINDOW AS FLOAT64) AS customer_id_avg_amount_1day_window,\n",
    "  CAST(a.CUSTOMER_ID_AVG_AMOUNT_7DAY_WINDOW AS FLOAT64) AS customer_id_avg_amount_7day_window,\n",
    "  CAST(a.CUSTOMER_ID_AVG_AMOUNT_14DAY_WINDOW AS FLOAT64) AS customer_id_avg_amount_14day_window,\n",
    "  CAST(b.TERMINAL_ID_NB_TX_1DAY_WINDOW AS INT64) AS terminal_id_nb_tx_1day_window,\n",
    "  CAST(b.TERMINAL_ID_NB_TX_7DAY_WINDOW AS INT64) AS terminal_id_nb_tx_7day_window,\n",
    "  CAST(b.TERMINAL_ID_NB_TX_14DAY_WINDOW AS INT64) AS terminal_id_nb_tx_14day_window,\n",
    "  CAST(b.TERMINAL_ID_RISK_1DAY_WINDOW AS FLOAT64) AS terminal_id_risk_1day_window,\n",
    "  CAST(b.TERMINAL_ID_RISK_7DAY_WINDOW AS FLOAT64) AS terminal_id_risk_7day_window,\n",
    "  CAST(b.TERMINAL_ID_RISK_14DAY_WINDOW AS FLOAT64) AS terminal_id_risk_14day_window,\n",
    "  a.TX_FRAUD AS tx_fraud\n",
    "FROM\n",
    "  get_customer_spending_behaviour AS a\n",
    "INNER JOIN\n",
    "  get_risk_index AS b\n",
    "ON\n",
    "  a.TX_TS = b.TX_TS\n",
    "  AND a.TX_ID = b.TX_ID\n",
    "  AND a.CUSTOMER_ID = b.CUSTOMER_ID\n",
    "  AND a.TERMINAL_ID = b.TERMINAL_ID\n",
    "ORDER BY\n",
    "  a.TX_TS\n",
    "\n",
    "\"\"\""
   ]
  },
  {
   "cell_type": "code",
   "execution_count": null,
   "metadata": {
    "colab": {
     "base_uri": "https://localhost:8080/"
    },
    "executionInfo": {
     "elapsed": 26564,
     "status": "ok",
     "timestamp": 1644823813521,
     "user": {
      "displayName": "Ivan Nardini",
      "photoUrl": "https://lh3.googleusercontent.com/a-/AOh14GirR1vbO3QJ0m2qHiEeorgPnPRSx5bB2uOIfJ4mSQ=s64",
      "userId": "04192340647469915671"
     },
     "user_tz": -60
    },
    "id": "rgOD3f343t40",
    "outputId": "c8fc6119-a824-4dae-ca1c-9e09ae8836bc"
   },
   "outputs": [],
   "source": [
    "try:\n",
    "    bq_client = bigquery.Client(project=PROJECT_ID, location=REGION)\n",
    "    job = bq_client.query(sql_query)\n",
    "    _ = job.result()\n",
    "except RuntimeError as error:\n",
    "    print(error)"
   ]
  },
  {
   "cell_type": "markdown",
   "metadata": {
    "id": "T9xB8hVU3t40"
   },
   "source": [
    "## Feature Store for feature management\n",
    "\n",
    "### What is a feature store?\n",
    "\n",
    "Vertex AI Feature Store provides a centralized repository for organizing, storing, and serving ML features. Using a central featurestore, enables an organization to efficiently share, discover, and re-use ML features at scale, which can increase the velocity of developing and deploying new ML applications.\n",
    "\n",
    "### Why would you like to set up it?\n",
    "\n",
    "Based on the scenario, so far you build and store features on BigQuery. Now, in order to predict fraud, you want to serve those features in realtime around milliseconds scale. In particular, when the ML gateway receives a prediction request for a specific entity (customer, terminal and transaction), the system needs to fetch the features related to that entity and pass them as inputs to the model for online prediction. And, as you can imagine, an analytical data warehouse such as BigQuery are not able to manage low-latency singleton read operations. \n",
    "\n",
    "Last year, Google Cloud announched Vertex AI, a managed machine learning (ML) platform that allows data science team to accelerate the deployment and maintenance of ML models. The plaftform is composed by several building blocks and one of the is represented by Vertex AI Feature store which would provides a managed service for low latency scalable feature serving. Also it provides a centralized feature repository with easy APIs to search & discover features and feature monitoring capabilities to track for drift and other quality issues. \n",
    "\n",
    "Vertex AI Feature Store uses a time series data model to store a series of values for features. This model enables Vertex AI Feature Store to maintain feature values as they change over time. Vertex AI Feature Store organizes resources hierarchically in the following order: `Featurestore -> EntityType -> Feature`. You must create these resources before you can ingest data into Vertex AI Feature Store. \n",
    "\n",
    "Let's do that by using the **new SDK**!\n",
    "\n",
    "### How would you set it?\n",
    "\n",
    "Vertex AI Feature Store uses a time series data model to store a series of values for features. This model enables Vertex AI Feature Store to maintain feature values as they change over time. Vertex AI Feature Store organizes resources hierarchically in the following order: `Featurestore -> EntityType -> Feature`. \n",
    "\n",
    "You must create these resources before you can ingest data into Vertex AI Feature Store.\n",
    "\n",
    "<img src=\"../assets/ff_data_model.png\"/>"
   ]
  },
  {
   "cell_type": "markdown",
   "metadata": {
    "id": "AfKeQmf63t42"
   },
   "source": [
    "### Create featurestore, `fraud_detection`\n",
    "\n",
    "A featurestore is the top-level container for entity types, features, and feature values. Typically, an organization creates one shared featurestore for feature ingestion, serving, and sharing across all teams in the organization."
   ]
  },
  {
   "cell_type": "code",
   "execution_count": null,
   "metadata": {
    "colab": {
     "base_uri": "https://localhost:8080/"
    },
    "executionInfo": {
     "elapsed": 508,
     "status": "ok",
     "timestamp": 1644830312529,
     "user": {
      "displayName": "Ivan Nardini",
      "photoUrl": "https://lh3.googleusercontent.com/a-/AOh14GirR1vbO3QJ0m2qHiEeorgPnPRSx5bB2uOIfJ4mSQ=s64",
      "userId": "04192340647469915671"
     },
     "user_tz": -60
    },
    "id": "FXkw5MDS3t42",
    "outputId": "f911b456-ba4f-4981-c5bc-628839a59e59"
   },
   "outputs": [],
   "source": [
    "# Check if a feature store already exists (IT SHOULD NOT EXIST!)\n",
    "\n",
    "print(f\"Listing all featurestores in {PROJECT_ID}\")\n",
    "feature_store_list = Featurestore.list()\n",
    "if len(list(feature_store_list)) == 0:\n",
    "    print(f\"The {PROJECT_ID} is empty!\")\n",
    "else:\n",
    "    for fs in feature_store_list:\n",
    "        print(\"Found featurestore: {}\".format(fs.resource_name))"
   ]
  },
  {
   "cell_type": "code",
   "execution_count": null,
   "metadata": {
    "colab": {
     "base_uri": "https://localhost:8080/"
    },
    "executionInfo": {
     "elapsed": 10606,
     "status": "ok",
     "timestamp": 1644830323473,
     "user": {
      "displayName": "Ivan Nardini",
      "photoUrl": "https://lh3.googleusercontent.com/a-/AOh14GirR1vbO3QJ0m2qHiEeorgPnPRSx5bB2uOIfJ4mSQ=s64",
      "userId": "04192340647469915671"
     },
     "user_tz": -60
    },
    "id": "nQmwn7agJZ6o",
    "outputId": "4d7af5e1-93c4-4286-adc8-46445ac9a00e"
   },
   "outputs": [],
   "source": [
    "# Try to create a new featurestore resource\n",
    "try:\n",
    "    ff_feature_store = Featurestore.create(featurestore_id=FEATURESTORE_ID,\n",
    "                                  online_store_fixed_node_count=5, \n",
    "                                  labels={\"team\": \"dataoffice\", \n",
    "                                          \"app\" : \"fraud_finder\"}, \n",
    "                                  sync=True)\n",
    "except RuntimeError as error:\n",
    "    print(error)\n",
    "else:\n",
    "    FEATURESTORE_RESOURCE_NAME = ff_feature_store.resource_name\n",
    "    print(f\"Feature store created: {FEATURESTORE_RESOURCE_NAME}\")"
   ]
  },
  {
   "cell_type": "markdown",
   "metadata": {
    "id": "GkhVJqph3t42"
   },
   "source": [
    "### Create the three main entity types and their features\n",
    "\n",
    "An entity type is a collection of semantically related features. You define your own entity types, based on the concepts that are relevant to your use case. In this case, the Fraud Finder service has the entity types event, customer and transaction. "
   ]
  },
  {
   "cell_type": "code",
   "execution_count": null,
   "metadata": {
    "colab": {
     "base_uri": "https://localhost:8080/"
    },
    "executionInfo": {
     "elapsed": 253,
     "status": "ok",
     "timestamp": 1644830323717,
     "user": {
      "displayName": "Ivan Nardini",
      "photoUrl": "https://lh3.googleusercontent.com/a-/AOh14GirR1vbO3QJ0m2qHiEeorgPnPRSx5bB2uOIfJ4mSQ=s64",
      "userId": "04192340647469915671"
     },
     "user_tz": -60
    },
    "id": "6e5EW3yfJuy0",
    "outputId": "7357e3ed-0494-4da6-f1d2-55d907df7504"
   },
   "outputs": [],
   "source": [
    "# Check if entities already exists (THEY SHOULD NOT EXIST!)\n",
    "\n",
    "print(f\"Listing all entity types and features in featurestore {FEATURESTORE_RESOURCE_NAME}\")\n",
    "entity_types_list = ff_feature_store.list_entity_types()\n",
    "if len(list(entity_types_list)) == 0:\n",
    "    print(f\"The featurestore {FEATURESTORE_RESOURCE_NAME} is empty!\")\n",
    "else:\n",
    "    for et in entity_types_list:\n",
    "        et_name = et.resource_name\n",
    "        et_features_list = et.list_features()\n",
    "        num_features = len(list(et_features_list))\n",
    "        print(f\"Entity type {et_name} with {num_features} features\")"
   ]
  },
  {
   "cell_type": "markdown",
   "metadata": {
    "id": "_Uq2Jr_S3t43"
   },
   "source": [
    "#### Create entity type, ```event```"
   ]
  },
  {
   "cell_type": "code",
   "execution_count": null,
   "metadata": {
    "colab": {
     "base_uri": "https://localhost:8080/"
    },
    "executionInfo": {
     "elapsed": 2624,
     "status": "ok",
     "timestamp": 1644830326340,
     "user": {
      "displayName": "Ivan Nardini",
      "photoUrl": "https://lh3.googleusercontent.com/a-/AOh14GirR1vbO3QJ0m2qHiEeorgPnPRSx5bB2uOIfJ4mSQ=s64",
      "userId": "04192340647469915671"
     },
     "user_tz": -60
    },
    "id": "HyNYy1PDOIg1",
    "outputId": "18abcd40-56a9-4454-fe64-68fe552798f9"
   },
   "outputs": [],
   "source": [
    "# Try to create a new event entity type resource\n",
    "try:\n",
    "    event_entity_type = ff_feature_store.create_entity_type(\n",
    "    entity_type_id=\"event\",\n",
    "    description=\"Event Entity\", \n",
    "    sync=True)\n",
    "except RuntimeError as error:\n",
    "    print(error)\n",
    "else:\n",
    "    EVENT_ENTITY_RESOURCE_NAME = event_entity_type.resource_name\n",
    "    print('Entity type name is', EVENT_ENTITY_RESOURCE_NAME)"
   ]
  },
  {
   "cell_type": "markdown",
   "metadata": {
    "id": "dA8Ks7aJ3t43"
   },
   "source": [
    "#### Create features of the ```event``` entity type\n",
    "\n",
    "Before to ingest features, you need to define the configuration. For simplicity, I created the configuration in a declarative way. Of course, we can create an helper function to built it from Bigquery schema. Also notice that we want to pass some feature on-fly. In this case, it country, operating system and language looks perfect for that."
   ]
  },
  {
   "cell_type": "code",
   "execution_count": null,
   "metadata": {
    "executionInfo": {
     "elapsed": 244,
     "status": "ok",
     "timestamp": 1644830636839,
     "user": {
      "displayName": "Ivan Nardini",
      "photoUrl": "https://lh3.googleusercontent.com/a-/AOh14GirR1vbO3QJ0m2qHiEeorgPnPRSx5bB2uOIfJ4mSQ=s64",
      "userId": "04192340647469915671"
     },
     "user_tz": -60
    },
    "id": "f5nkw-qVO2-S"
   },
   "outputs": [],
   "source": [
    "event_feature_configs = {\n",
    "    \"customer_id\": {\n",
    "    \"value_type\": \"STRING\",\n",
    "    \"description\" : \"The identifier for the customer\",\n",
    "    \"labels\": {\"status\": \"passed\"}\n",
    "    },\n",
    "    \"terminal_id\": {\n",
    "    \"value_type\": \"STRING\",\n",
    "    \"description\" : \"The identifier for the terminal\",\n",
    "    \"labels\": {\"status\": \"passed\"}\n",
    "    },\n",
    "    \"tx_amount\": {\n",
    "    \"value_type\": \"DOUBLE\",\n",
    "    \"description\" : \"The amount of the transaction\",\n",
    "    \"labels\": {\"status\": \"passed\"}\n",
    "    },\n",
    "    \"tx_fraud\": {\n",
    "    \"value_type\": \"INT64\",\n",
    "    \"description\" : \"The binary variable to indicate fradulent transaction (1=fraud)\",\n",
    "    \"labels\": {\"status\": \"passed\"}\n",
    "    }\n",
    "}"
   ]
  },
  {
   "cell_type": "code",
   "execution_count": null,
   "metadata": {
    "colab": {
     "base_uri": "https://localhost:8080/"
    },
    "executionInfo": {
     "elapsed": 1524,
     "status": "ok",
     "timestamp": 1644830639988,
     "user": {
      "displayName": "Ivan Nardini",
      "photoUrl": "https://lh3.googleusercontent.com/a-/AOh14GirR1vbO3QJ0m2qHiEeorgPnPRSx5bB2uOIfJ4mSQ=s64",
      "userId": "04192340647469915671"
     },
     "user_tz": -60
    },
    "id": "vj6Hg0Ic3t44",
    "outputId": "6da19510-7a28-4f34-c167-ddab3829aac0"
   },
   "outputs": [],
   "source": [
    "# Try to create features \n",
    "try:\n",
    "    event_feature_ids = event_entity_type.batch_create_features(\n",
    "        feature_configs = event_feature_configs,\n",
    "        sync=True)\n",
    "except RuntimeError as error:\n",
    "    print(error)\n",
    "else:\n",
    "    for feature in event_feature_ids.list_features():\n",
    "      print('')\n",
    "      print(f'The resource name of {feature.name} feature is', feature.resource_name)"
   ]
  },
  {
   "cell_type": "markdown",
   "metadata": {
    "id": "c0gimd2Y3t44"
   },
   "source": [
    "#### Create entity type, ```customer```"
   ]
  },
  {
   "cell_type": "code",
   "execution_count": null,
   "metadata": {
    "colab": {
     "base_uri": "https://localhost:8080/"
    },
    "executionInfo": {
     "elapsed": 1671,
     "status": "ok",
     "timestamp": 1644830643664,
     "user": {
      "displayName": "Ivan Nardini",
      "photoUrl": "https://lh3.googleusercontent.com/a-/AOh14GirR1vbO3QJ0m2qHiEeorgPnPRSx5bB2uOIfJ4mSQ=s64",
      "userId": "04192340647469915671"
     },
     "user_tz": -60
    },
    "id": "TBPk3KdRQXec",
    "outputId": "09b4fac9-0b91-4e50-cf79-9dea35f50429"
   },
   "outputs": [],
   "source": [
    "try:\n",
    "    customer_entity_type = ff_feature_store.create_entity_type(\n",
    "    entity_type_id=\"customer\",\n",
    "    description=\"Customer Entity\", \n",
    "    sync=True)\n",
    "except RuntimeError as error:\n",
    "    print(error)\n",
    "else:\n",
    "    CUSTOMER_ENTITY_RESOURCE_NAME = customer_entity_type.resource_name\n",
    "    print('Entity type name is', CUSTOMER_ENTITY_RESOURCE_NAME)"
   ]
  },
  {
   "cell_type": "markdown",
   "metadata": {
    "id": "gHglWPU43t45"
   },
   "source": [
    "#### Create features of the ```customer``` entity type"
   ]
  },
  {
   "cell_type": "code",
   "execution_count": null,
   "metadata": {
    "executionInfo": {
     "elapsed": 2,
     "status": "ok",
     "timestamp": 1644830653532,
     "user": {
      "displayName": "Ivan Nardini",
      "photoUrl": "https://lh3.googleusercontent.com/a-/AOh14GirR1vbO3QJ0m2qHiEeorgPnPRSx5bB2uOIfJ4mSQ=s64",
      "userId": "04192340647469915671"
     },
     "user_tz": -60
    },
    "id": "Y_TlUTtkRKaN"
   },
   "outputs": [],
   "source": [
    "customer_feature_configs = {\n",
    "    \"customer_id_nb_tx_1day_window\": {\n",
    "    \"value_type\": \"INT64\",\n",
    "    \"description\" : \"Number of transactions by the customer in the last day\",\n",
    "    \"labels\": {\"status\": \"passed\"}\n",
    "    },\n",
    "    \"customer_id_avg_amount_1day_window\": {\n",
    "    \"value_type\": \"DOUBLE\",\n",
    "    \"description\" : \"Average spending amount in the last day\",\n",
    "    \"labels\": {\"status\": \"passed\"}\n",
    "    },\n",
    "    \"customer_id_nb_tx_7day_window\": {\n",
    "    \"value_type\": \"INT64\",\n",
    "    \"description\" : \"Number of transactions by the customer in the last 7 days\",\n",
    "    \"labels\": {\"status\": \"passed\"}\n",
    "    },\n",
    "    \"customer_id_avg_amount_7day_window\": {\n",
    "    \"value_type\": \"DOUBLE\",\n",
    "    \"description\" : \"Average spending amount in the last 7 days\",\n",
    "    \"labels\": {\"status\": \"passed\"}\n",
    "    },\n",
    "    \"customer_id_nb_tx_14day_window\": {\n",
    "    \"value_type\": \"INT64\",\n",
    "    \"description\" : \"Number of transactions by the customer in the last 14 days\",\n",
    "    \"labels\": {\"status\": \"passed\"}\n",
    "    },\n",
    "    \"customer_id_avg_amount_14day_window\": {\n",
    "    \"value_type\": \"DOUBLE\",\n",
    "    \"description\" : \"Average spending amount in the last 14 days\",\n",
    "    \"labels\": {\"status\": \"passed\"}\n",
    "    }\n",
    "}"
   ]
  },
  {
   "cell_type": "code",
   "execution_count": null,
   "metadata": {
    "colab": {
     "base_uri": "https://localhost:8080/"
    },
    "executionInfo": {
     "elapsed": 3200,
     "status": "ok",
     "timestamp": 1644830657996,
     "user": {
      "displayName": "Ivan Nardini",
      "photoUrl": "https://lh3.googleusercontent.com/a-/AOh14GirR1vbO3QJ0m2qHiEeorgPnPRSx5bB2uOIfJ4mSQ=s64",
      "userId": "04192340647469915671"
     },
     "user_tz": -60
    },
    "id": "Upho8Vg13t46",
    "outputId": "607c91ec-f21d-4f77-a198-9324c50d483a"
   },
   "outputs": [],
   "source": [
    "try:\n",
    "    customer_feature_ids = customer_entity_type.batch_create_features(\n",
    "        feature_configs = customer_feature_configs,\n",
    "        sync=True)\n",
    "except RuntimeError as error:\n",
    "    print(error)\n",
    "else:\n",
    "    for feature in customer_feature_ids.list_features():\n",
    "      print('')\n",
    "      print(f'The resource name of {feature.name} feature is', feature.resource_name)"
   ]
  },
  {
   "cell_type": "markdown",
   "metadata": {
    "id": "H7Qb-5aI3t46"
   },
   "source": [
    "#### Create entity type, ```terminal```"
   ]
  },
  {
   "cell_type": "code",
   "execution_count": null,
   "metadata": {
    "colab": {
     "base_uri": "https://localhost:8080/"
    },
    "executionInfo": {
     "elapsed": 1597,
     "status": "ok",
     "timestamp": 1644830659588,
     "user": {
      "displayName": "Ivan Nardini",
      "photoUrl": "https://lh3.googleusercontent.com/a-/AOh14GirR1vbO3QJ0m2qHiEeorgPnPRSx5bB2uOIfJ4mSQ=s64",
      "userId": "04192340647469915671"
     },
     "user_tz": -60
    },
    "id": "Pje6CLgj3t46",
    "outputId": "668cb2c5-3f59-4645-ba73-6e54ab660cf7"
   },
   "outputs": [],
   "source": [
    "try:\n",
    "    terminal_entity_type = ff_feature_store.create_entity_type(\n",
    "    entity_type_id=\"terminal\",\n",
    "    description=\"Terminal Entity\", \n",
    "    sync=True)\n",
    "except RuntimeError as error:\n",
    "    print(error)\n",
    "else:\n",
    "    TERMINAL_ENTITY_RESOURCE_NAME = terminal_entity_type.resource_name\n",
    "    print('Entity type name is', TERMINAL_ENTITY_RESOURCE_NAME)"
   ]
  },
  {
   "cell_type": "markdown",
   "metadata": {
    "id": "7tUvpIfR3t47"
   },
   "source": [
    "#### Create features of the ```terminal``` entity type"
   ]
  },
  {
   "cell_type": "code",
   "execution_count": null,
   "metadata": {
    "executionInfo": {
     "elapsed": 244,
     "status": "ok",
     "timestamp": 1644830677787,
     "user": {
      "displayName": "Ivan Nardini",
      "photoUrl": "https://lh3.googleusercontent.com/a-/AOh14GirR1vbO3QJ0m2qHiEeorgPnPRSx5bB2uOIfJ4mSQ=s64",
      "userId": "04192340647469915671"
     },
     "user_tz": -60
    },
    "id": "Hwkz6FSeXAUN"
   },
   "outputs": [],
   "source": [
    "terminal_feature_configs = {\n",
    "    \"terminal_id_nb_tx_1day_window\": {\n",
    "    \"value_type\": \"INT64\",\n",
    "    \"description\" : \"Number of transactions by the terminal in the last day\",\n",
    "    \"labels\": {\"status\": \"passed\"}\n",
    "    },\n",
    "    \"terminal_id_risk_1day_window\": {\n",
    "    \"value_type\": \"DOUBLE\",\n",
    "    \"description\" : \"Risk score calculated average number of frauds on the terminal in the last day\",\n",
    "    \"labels\": {\"status\": \"passed\"}\n",
    "    },\n",
    "    \"terminal_id_nb_tx_7day_window\": {\n",
    "    \"value_type\": \"INT64\",\n",
    "    \"description\" : \"Number of transactions by the terminal in the 7 days\",\n",
    "    \"labels\": {\"status\": \"passed\"}\n",
    "    },\n",
    "    \"terminal_id_risk_7day_window\": {\n",
    "    \"value_type\": \"DOUBLE\",\n",
    "    \"description\" : \"Risk score calculated average number of frauds on the terminal in the last 7 days\",\n",
    "    \"labels\": {\"status\": \"passed\"}\n",
    "    },\n",
    "    \"terminal_id_nb_tx_14day_window\": {\n",
    "    \"value_type\": \"INT64\",\n",
    "    \"description\" : \"Number of transactions by the terminal in the 14 days\",\n",
    "    \"labels\": {\"status\": \"passed\"}\n",
    "    },\n",
    "    \"terminal_id_risk_14day_window\": {\n",
    "    \"value_type\": \"DOUBLE\",\n",
    "    \"description\" : \"Risk score calculated average number of frauds on the terminal in the last 14 day\",\n",
    "    \"labels\": {\"status\": \"passed\"}\n",
    "    }\n",
    "}"
   ]
  },
  {
   "cell_type": "code",
   "execution_count": null,
   "metadata": {
    "colab": {
     "base_uri": "https://localhost:8080/"
    },
    "executionInfo": {
     "elapsed": 3033,
     "status": "ok",
     "timestamp": 1644830682209,
     "user": {
      "displayName": "Ivan Nardini",
      "photoUrl": "https://lh3.googleusercontent.com/a-/AOh14GirR1vbO3QJ0m2qHiEeorgPnPRSx5bB2uOIfJ4mSQ=s64",
      "userId": "04192340647469915671"
     },
     "user_tz": -60
    },
    "id": "SxNJmlCbX5HK",
    "outputId": "8e420211-0757-4672-b7d0-75e5f05a6597"
   },
   "outputs": [],
   "source": [
    "try:\n",
    "    terminal_feature_ids = terminal_entity_type.batch_create_features(\n",
    "        feature_configs = terminal_feature_configs,\n",
    "        sync=True)\n",
    "except RuntimeError as error:\n",
    "    print(error)\n",
    "else:\n",
    "    for feature in terminal_feature_ids.list_features():\n",
    "      print('')\n",
    "      print(f'The resource name of {feature.name} feature is', feature.resource_name)"
   ]
  },
  {
   "cell_type": "markdown",
   "metadata": {},
   "source": [
    "Below you have a view of how Feature store looks like when we create it on Vertex AI\n",
    "\n",
    "<img src=\"../assets/ff_view.png\"/>"
   ]
  },
  {
   "cell_type": "markdown",
   "metadata": {
    "id": "HP2GYixvYfyC"
   },
   "source": [
    "### Set Feature Monitoring \n",
    "\n",
    "Feature [monitoring](https://cloud.google.com/vertex-ai/docs/featurestore/monitoring) is still in preview, so you need to use v1beta1 Python. The easiest way to set this for now is using [console UI](https://console.cloud.google.com/vertex-ai/features). For completeness, below is example to do this using v1beta1 SDK\n"
   ]
  },
  {
   "cell_type": "code",
   "execution_count": null,
   "metadata": {
    "colab": {
     "base_uri": "https://localhost:8080/"
    },
    "executionInfo": {
     "elapsed": 5,
     "status": "ok",
     "timestamp": 1644830682210,
     "user": {
      "displayName": "Ivan Nardini",
      "photoUrl": "https://lh3.googleusercontent.com/a-/AOh14GirR1vbO3QJ0m2qHiEeorgPnPRSx5bB2uOIfJ4mSQ=s64",
      "userId": "04192340647469915671"
     },
     "user_tz": -60
    },
    "id": "-YOyTCuBYsLO",
    "outputId": "f17c3c76-54fa-41e4-b57d-c7822ef4f4d1"
   },
   "outputs": [],
   "source": [
    "from google.cloud.aiplatform_v1beta1 import \\\n",
    "    FeaturestoreServiceClient as v1beta1_FeaturestoreServiceClient\n",
    "from google.cloud.aiplatform_v1beta1.types import \\\n",
    "    entity_type as v1beta1_entity_type_pb2\n",
    "from google.cloud.aiplatform_v1beta1.types import \\\n",
    "    featurestore_monitoring as v1beta1_featurestore_monitoring_pb2\n",
    "from google.cloud.aiplatform_v1beta1.types import \\\n",
    "    featurestore_service as v1beta1_featurestore_service_pb2\n",
    "from google.protobuf.duration_pb2 import Duration\n",
    "\n",
    "v1beta1_admin_client = v1beta1_FeaturestoreServiceClient(\n",
    "    client_options={\"api_endpoint\": API_ENDPOINT}\n",
    ")\n"
   ]
  },
  {
   "cell_type": "code",
   "execution_count": null,
   "metadata": {
    "executionInfo": {
     "elapsed": 1266,
     "status": "ok",
     "timestamp": 1644830683473,
     "user": {
      "displayName": "Ivan Nardini",
      "photoUrl": "https://lh3.googleusercontent.com/a-/AOh14GirR1vbO3QJ0m2qHiEeorgPnPRSx5bB2uOIfJ4mSQ=s64",
      "userId": "04192340647469915671"
     },
     "user_tz": -60
    },
    "id": "4EXbLdtHZGtp"
   },
   "outputs": [],
   "source": [
    "for entity in ff_feature_store.list_entity_types():\n",
    "    v1beta1_admin_client.update_entity_type(\n",
    "      v1beta1_featurestore_service_pb2.UpdateEntityTypeRequest(\n",
    "          entity_type=v1beta1_entity_type_pb2.EntityType(\n",
    "              name=v1beta1_admin_client.entity_type_path(\n",
    "                  PROJECT_ID, REGION, FEATURESTORE_ID, entity.name\n",
    "              ),\n",
    "              monitoring_config=v1beta1_featurestore_monitoring_pb2.FeaturestoreMonitoringConfig(\n",
    "                  snapshot_analysis=v1beta1_featurestore_monitoring_pb2.FeaturestoreMonitoringConfig.SnapshotAnalysis(\n",
    "                      monitoring_interval=Duration(seconds=86400),  # 1 day\n",
    "                  ),\n",
    "              ),\n",
    "          ),\n",
    "      )\n",
    "  )"
   ]
  },
  {
   "cell_type": "markdown",
   "metadata": {
    "id": "SoSDxF7Dbjq4"
   },
   "source": [
    "### Search features\n",
    "\n",
    "As we mentioned, Vertex AI Feature store guarantees searching capabilities. You can define queries in order to retrive features"
   ]
  },
  {
   "cell_type": "code",
   "execution_count": null,
   "metadata": {
    "colab": {
     "base_uri": "https://localhost:8080/"
    },
    "executionInfo": {
     "elapsed": 370,
     "status": "ok",
     "timestamp": 1644830683840,
     "user": {
      "displayName": "Ivan Nardini",
      "photoUrl": "https://lh3.googleusercontent.com/a-/AOh14GirR1vbO3QJ0m2qHiEeorgPnPRSx5bB2uOIfJ4mSQ=s64",
      "userId": "04192340647469915671"
     },
     "user_tz": -60
    },
    "id": "PNCIWubbbmvf",
    "outputId": "8ce9642c-a830-4577-8777-cad78f768f13"
   },
   "outputs": [],
   "source": [
    "feature_query = \"feature_id:customer_id_nb_tx_7day_window\"\n",
    "searched_features = Feature.search(query=feature_query)\n",
    "searched_features"
   ]
  },
  {
   "cell_type": "markdown",
   "metadata": {
    "id": "WwVoJ42m3t48"
   },
   "source": [
    "## Import feature values \n",
    "\n",
    "You need to import feature values before you can use them for online/offline serving.\n",
    "\n",
    "About **Source Data format and Layout**:\n",
    "\n",
    "- BigQuery table/Avro/CSV are supported\n",
    "- Each imported entity *must* have an ID\n",
    "- Each entity can *optionally* have a timestamp, specifying when the feature values are generated.\n",
    "\n",
    "In our scenario, we assume to import feature values from a BigQuery tables called events, customers and terminals"
   ]
  },
  {
   "cell_type": "markdown",
   "metadata": {
    "id": "C1cSYyAy3t48"
   },
   "source": [
    "### Prepare tables to import"
   ]
  },
  {
   "cell_type": "code",
   "execution_count": null,
   "metadata": {
    "executionInfo": {
     "elapsed": 401,
     "status": "ok",
     "timestamp": 1644830684779,
     "user": {
      "displayName": "Ivan Nardini",
      "photoUrl": "https://lh3.googleusercontent.com/a-/AOh14GirR1vbO3QJ0m2qHiEeorgPnPRSx5bB2uOIfJ4mSQ=s64",
      "userId": "04192340647469915671"
     },
     "user_tz": -60
    },
    "id": "QLwwgvr_3t48"
   },
   "outputs": [],
   "source": [
    "sql_query_feature_store = []"
   ]
  },
  {
   "cell_type": "code",
   "execution_count": null,
   "metadata": {
    "executionInfo": {
     "elapsed": 251,
     "status": "ok",
     "timestamp": 1644832271645,
     "user": {
      "displayName": "Ivan Nardini",
      "photoUrl": "https://lh3.googleusercontent.com/a-/AOh14GirR1vbO3QJ0m2qHiEeorgPnPRSx5bB2uOIfJ4mSQ=s64",
      "userId": "04192340647469915671"
     },
     "user_tz": -60
    },
    "id": "-IpvPd_d3t48"
   },
   "outputs": [],
   "source": [
    "# Define queries to select relevant colums for each entities\n",
    "\n",
    "event_sql_query = f\"\"\"\n",
    "CREATE OR REPLACE TABLE\n",
    "  `{PROJECT_ID}.{BQ_DATASET}.{EVENTS_TABLE_NAME}` AS\n",
    "SELECT tx_ts, tx_id, customer_id, \n",
    "terminal_id, tx_amount, tx_fraud\n",
    "FROM `{PROJECT_ID}.{BQ_DATASET}.{FEATURES_TABLE}`\n",
    "WHERE\n",
    "  tx_ts BETWEEN \"{START_DATE_TRAIN}\" AND \"{END_DATE_TRAIN}\"\n",
    "ORDER BY tx_ts\n",
    "\n",
    "\"\"\"\n",
    "\n",
    "sql_query_feature_store.append(event_sql_query)\n",
    "\n",
    "\n",
    "customers_sql_query = f\"\"\"\n",
    "CREATE OR REPLACE TABLE\n",
    "  `{PROJECT_ID}.{BQ_DATASET}.{CUSTOMERS_TABLE_NAME}` AS\n",
    "SELECT tx_ts, customer_id, customer_id_nb_tx_1day_window, \n",
    "customer_id_avg_amount_1day_window, customer_id_nb_tx_7day_window,\n",
    "customer_id_avg_amount_7day_window, customer_id_nb_tx_14day_window,\n",
    "customer_id_avg_amount_14day_window\n",
    "FROM `{PROJECT_ID}.{BQ_DATASET}.{FEATURES_TABLE}`\n",
    "WHERE\n",
    "  tx_ts BETWEEN \"{START_DATE_TRAIN}\" AND \"{END_DATE_TRAIN}\"\n",
    "ORDER BY tx_ts\n",
    "\"\"\"\n",
    "\n",
    "sql_query_feature_store.append(customers_sql_query)\n",
    "\n",
    "\n",
    "terminals_sql_query = f\"\"\"\n",
    "CREATE OR REPLACE TABLE\n",
    "  `{PROJECT_ID}.{BQ_DATASET}.{TERMINALS_TABLE_NAME}` AS\n",
    "SELECT tx_ts, terminal_id, terminal_id_nb_tx_1day_window,\n",
    "terminal_id_risk_1day_window, terminal_id_nb_tx_7day_window,\n",
    "terminal_id_risk_7day_window, terminal_id_nb_tx_14day_window,\n",
    "terminal_id_risk_14day_window\n",
    "FROM `{PROJECT_ID}.{BQ_DATASET}.{FEATURES_TABLE}`\n",
    "WHERE\n",
    "  tx_ts BETWEEN \"{START_DATE_TRAIN}\" AND \"{END_DATE_TRAIN}\"\n",
    "ORDER BY tx_ts\n",
    "\"\"\"\n",
    "\n",
    "sql_query_feature_store.append(terminals_sql_query)"
   ]
  },
  {
   "cell_type": "code",
   "execution_count": null,
   "metadata": {
    "executionInfo": {
     "elapsed": 135716,
     "status": "ok",
     "timestamp": 1644832407358,
     "user": {
      "displayName": "Ivan Nardini",
      "photoUrl": "https://lh3.googleusercontent.com/a-/AOh14GirR1vbO3QJ0m2qHiEeorgPnPRSx5bB2uOIfJ4mSQ=s64",
      "userId": "04192340647469915671"
     },
     "user_tz": -60
    },
    "id": "_-4NWiv53t48"
   },
   "outputs": [],
   "source": [
    "for sq in sql_query_feature_store:\n",
    "    try:\n",
    "        job = bq_client.query(sq)\n",
    "        _ = job.result()\n",
    "    except RuntimeError as error:\n",
    "        print(error)"
   ]
  },
  {
   "cell_type": "markdown",
   "metadata": {
    "id": "VSviOlAN3t48"
   },
   "source": [
    "### Import events"
   ]
  },
  {
   "cell_type": "code",
   "execution_count": null,
   "metadata": {
    "executionInfo": {
     "elapsed": 241,
     "status": "ok",
     "timestamp": 1644832417157,
     "user": {
      "displayName": "Ivan Nardini",
      "photoUrl": "https://lh3.googleusercontent.com/a-/AOh14GirR1vbO3QJ0m2qHiEeorgPnPRSx5bB2uOIfJ4mSQ=s64",
      "userId": "04192340647469915671"
     },
     "user_tz": -60
    },
    "id": "MsUoJXUToxCe"
   },
   "outputs": [],
   "source": [
    "FEATURE_TIME = \"tx_ts\""
   ]
  },
  {
   "cell_type": "code",
   "execution_count": null,
   "metadata": {
    "executionInfo": {
     "elapsed": 512,
     "status": "ok",
     "timestamp": 1644831300751,
     "user": {
      "displayName": "Ivan Nardini",
      "photoUrl": "https://lh3.googleusercontent.com/a-/AOh14GirR1vbO3QJ0m2qHiEeorgPnPRSx5bB2uOIfJ4mSQ=s64",
      "userId": "04192340647469915671"
     },
     "user_tz": -60
    },
    "id": "Y6f3DAbs3t49"
   },
   "outputs": [],
   "source": [
    "EVENT_FEATURES_IDS = [feature.name for feature in event_feature_ids.list_features()]\n",
    "EVENT_BQ_SOURCE_URI = f\"bq://{PROJECT_ID}.{BQ_DATASET}.events_{END_DATE_TRAIN}\"\n",
    "EVENT_ENTITY_ID_FIELD = \"tx_id\""
   ]
  },
  {
   "cell_type": "code",
   "execution_count": null,
   "metadata": {
    "colab": {
     "base_uri": "https://localhost:8080/"
    },
    "executionInfo": {
     "elapsed": 969550,
     "status": "ok",
     "timestamp": 1644832271397,
     "user": {
      "displayName": "Ivan Nardini",
      "photoUrl": "https://lh3.googleusercontent.com/a-/AOh14GirR1vbO3QJ0m2qHiEeorgPnPRSx5bB2uOIfJ4mSQ=s64",
      "userId": "04192340647469915671"
     },
     "user_tz": -60
    },
    "id": "PQa7EM9sdswv",
    "outputId": "2a0bbbaa-52cc-47d1-c945-309fc27ed016"
   },
   "outputs": [],
   "source": [
    "try:\n",
    "  event_entity_type.ingest_from_bq(\n",
    "    feature_ids=EVENT_FEATURES_IDS,\n",
    "    feature_time=FEATURE_TIME,\n",
    "    bq_source_uri=EVENT_BQ_SOURCE_URI,\n",
    "    entity_id_field=EVENT_ENTITY_ID_FIELD,\n",
    "    disable_online_serving=False,\n",
    "    worker_count=10,\n",
    "    sync=False\n",
    "    )\n",
    "except RuntimeError as error:\n",
    "    print(error)"
   ]
  },
  {
   "cell_type": "markdown",
   "metadata": {
    "id": "usby4wvu3t49"
   },
   "source": [
    "### Import customers"
   ]
  },
  {
   "cell_type": "code",
   "execution_count": null,
   "metadata": {
    "executionInfo": {
     "elapsed": 498,
     "status": "ok",
     "timestamp": 1644832428811,
     "user": {
      "displayName": "Ivan Nardini",
      "photoUrl": "https://lh3.googleusercontent.com/a-/AOh14GirR1vbO3QJ0m2qHiEeorgPnPRSx5bB2uOIfJ4mSQ=s64",
      "userId": "04192340647469915671"
     },
     "user_tz": -60
    },
    "id": "TVrPDdZi3t4-"
   },
   "outputs": [],
   "source": [
    "CUSTOMERS_FEATURES_IDS = [feature.name for feature in customer_feature_ids.list_features()]\n",
    "CUSTOMER_BQ_SOURCE_URI = f\"bq://{PROJECT_ID}.{BQ_DATASET}.customers_{END_DATE_TRAIN}\"\n",
    "CUSTOMER_ENTITY_ID_FIELD = \"customer_id\""
   ]
  },
  {
   "cell_type": "code",
   "execution_count": null,
   "metadata": {
    "colab": {
     "base_uri": "https://localhost:8080/"
    },
    "executionInfo": {
     "elapsed": 1045268,
     "status": "ok",
     "timestamp": 1644833475223,
     "user": {
      "displayName": "Ivan Nardini",
      "photoUrl": "https://lh3.googleusercontent.com/a-/AOh14GirR1vbO3QJ0m2qHiEeorgPnPRSx5bB2uOIfJ4mSQ=s64",
      "userId": "04192340647469915671"
     },
     "user_tz": -60
    },
    "id": "CQ1oDfu5oHXO",
    "outputId": "85a15710-05ce-4d70-a205-6ef469311cf4"
   },
   "outputs": [],
   "source": [
    "try:\n",
    "  customer_entity_type.ingest_from_bq(\n",
    "    feature_ids=CUSTOMERS_FEATURES_IDS,\n",
    "    feature_time=FEATURE_TIME,\n",
    "    bq_source_uri=CUSTOMER_BQ_SOURCE_URI,\n",
    "    entity_id_field=CUSTOMER_ENTITY_ID_FIELD,\n",
    "    disable_online_serving=False,\n",
    "    worker_count=10,\n",
    "    sync=False\n",
    "    )\n",
    "except RuntimeError as error:\n",
    "    print(error)"
   ]
  },
  {
   "cell_type": "markdown",
   "metadata": {
    "id": "2MPhVzBO3t4-"
   },
   "source": [
    "### Import terminals"
   ]
  },
  {
   "cell_type": "code",
   "execution_count": null,
   "metadata": {
    "executionInfo": {
     "elapsed": 503,
     "status": "ok",
     "timestamp": 1644833483470,
     "user": {
      "displayName": "Ivan Nardini",
      "photoUrl": "https://lh3.googleusercontent.com/a-/AOh14GirR1vbO3QJ0m2qHiEeorgPnPRSx5bB2uOIfJ4mSQ=s64",
      "userId": "04192340647469915671"
     },
     "user_tz": -60
    },
    "id": "rLji8AwL3t4_"
   },
   "outputs": [],
   "source": [
    "TERMINALS_FEATURES_IDS = [feature.name for feature in terminal_feature_ids.list_features()]\n",
    "TERMINALS_BQ_SOURCE_URI = f\"bq://{PROJECT_ID}.{BQ_DATASET}.terminals_{END_DATE_TRAIN}\"\n",
    "TERMINALS_ENTITY_ID_FIELD = \"terminal_id\""
   ]
  },
  {
   "cell_type": "code",
   "execution_count": null,
   "metadata": {
    "colab": {
     "base_uri": "https://localhost:8080/"
    },
    "executionInfo": {
     "elapsed": 966684,
     "status": "ok",
     "timestamp": 1644834451377,
     "user": {
      "displayName": "Ivan Nardini",
      "photoUrl": "https://lh3.googleusercontent.com/a-/AOh14GirR1vbO3QJ0m2qHiEeorgPnPRSx5bB2uOIfJ4mSQ=s64",
      "userId": "04192340647469915671"
     },
     "user_tz": -60
    },
    "id": "W0ztQUh8pFUD",
    "outputId": "5708fc22-e670-4caf-9a05-64c203fbde17"
   },
   "outputs": [],
   "source": [
    "try:\n",
    "  terminal_entity_type.ingest_from_bq(\n",
    "    feature_ids=TERMINALS_FEATURES_IDS,\n",
    "    feature_time=FEATURE_TIME,\n",
    "    bq_source_uri=TERMINALS_BQ_SOURCE_URI,\n",
    "    entity_id_field=TERMINALS_ENTITY_ID_FIELD,\n",
    "    disable_online_serving=False,\n",
    "    worker_count=10,\n",
    "    sync=False\n",
    "    )\n",
    "except RuntimeError as error:\n",
    "    print(error)"
   ]
  },
  {
   "cell_type": "markdown",
   "metadata": {},
   "source": [
    "On the Cloud Console, open the Vertex->Features->Injestion Jobs page to monitor the progress of the three ingestion jobs you just started. They should take several minutes each to complete but because they don't operate on the same entities they can be run in parallel."
   ]
  },
  {
   "cell_type": "markdown",
   "metadata": {
    "id": "eZzgeozE3t4_"
   },
   "source": [
    "## Search for feature values "
   ]
  },
  {
   "cell_type": "code",
   "execution_count": null,
   "metadata": {
    "executionInfo": {
     "elapsed": 824,
     "status": "ok",
     "timestamp": 1644835516606,
     "user": {
      "displayName": "Ivan Nardini",
      "photoUrl": "https://lh3.googleusercontent.com/a-/AOh14GirR1vbO3QJ0m2qHiEeorgPnPRSx5bB2uOIfJ4mSQ=s64",
      "userId": "04192340647469915671"
     },
     "user_tz": -60
    },
    "id": "y13EaqMnzibE"
   },
   "outputs": [],
   "source": [
    "customer_aggregated_features = customer_entity_type.read(\n",
    "      entity_ids=[\"5830444124423549\", \"5469689693941771\", \"1361459972478769\"],\n",
    "      feature_ids=CUSTOMERS_FEATURES_IDS)"
   ]
  },
  {
   "cell_type": "code",
   "execution_count": null,
   "metadata": {},
   "outputs": [],
   "source": [
    "customer_aggregated_features"
   ]
  },
  {
   "cell_type": "markdown",
   "metadata": {},
   "source": [
    "## (DO NOT RUN) Delete Feature store"
   ]
  },
  {
   "cell_type": "code",
   "execution_count": null,
   "metadata": {},
   "outputs": [],
   "source": [
    "# ff_feature_store.delete(sync=True, force=True)"
   ]
  }
 ],
 "metadata": {
  "colab": {
   "collapsed_sections": [],
   "name": "1_data_engineering_sdk.ipynb",
   "provenance": [],
   "toc_visible": true
  },
  "environment": {
   "kernel": "python3",
   "name": "common-cpu.m87",
   "type": "gcloud",
   "uri": "gcr.io/deeplearning-platform-release/base-cpu:m87"
  },
  "kernelspec": {
   "display_name": "Python 3",
   "language": "python",
   "name": "python3"
  },
  "language_info": {
   "codemirror_mode": {
    "name": "ipython",
    "version": 3
   },
   "file_extension": ".py",
   "mimetype": "text/x-python",
   "name": "python",
   "nbconvert_exporter": "python",
   "pygments_lexer": "ipython3",
   "version": "3.7.12"
  }
 },
 "nbformat": 4,
 "nbformat_minor": 4
}
